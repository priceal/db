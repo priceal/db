{
 "cells": [
  {
   "cell_type": "code",
   "execution_count": 1,
   "id": "92ddf4d4-36e7-4907-bbbf-23569cefaaa6",
   "metadata": {},
   "outputs": [],
   "source": [
    "from Bio import ExPASy\n",
    "from Bio import SwissProt\n",
    "from Bio import UniProt\n",
    "import requests\n",
    "import os"
   ]
  },
  {
   "cell_type": "code",
   "execution_count": 3,
   "id": "b84208c4-0e22-4666-babb-88bfdb7604c1",
   "metadata": {},
   "outputs": [],
   "source": [
    "accessCodes = ['A0A1S7IW96','A0A1S7IWB8','A0A2I7M8G4']\n",
    "dataDirectory = 'uniprot'\n",
    "url = 'https://rest.uniprot.org/uniprotkb/'"
   ]
  },
  {
   "cell_type": "code",
   "execution_count": 5,
   "id": "74809bcc-b5e3-4879-ab20-1cf3347243ca",
   "metadata": {},
   "outputs": [],
   "source": [
    "if not os.path.exists(dataDirectory):\n",
    "    os.mkdir(dataDirectory)\n",
    "for code in accessCodes:\n",
    "    download = requests.get(url+code+'.txt')\n",
    "    saveFile = code+'.txt'\n",
    "    with open(os.path.join(dataDirectory,saveFile),'w') as f:\n",
    "        f.write(download.text)"
   ]
  },
  {
   "cell_type": "code",
   "execution_count": 6,
   "id": "949826c5-4766-4a7b-aeb4-d0d199eb1baa",
   "metadata": {},
   "outputs": [
    {
     "name": "stdout",
     "output_type": "stream",
     "text": [
      "RecName: Full=Hemagglutinin {ECO:0000256|HAMAP-Rule:MF_04072}; Contains: RecName: Full=Hemagglutinin HA1 chain {ECO:0000256|HAMAP-Rule:MF_04072}; Contains: RecName: Full=Hemagglutinin HA2 chain {ECO:0000256|HAMAP-Rule:MF_04072};\n",
      "MEKIVLLLAIVSIVKSDQICIGYHANNSTEQVDTIMEKNVTVTHAQDILEKTHNGKLCNLDGVKPLILRDCSVAGWLLGNPMCDEFLNVPEWSYIVEKINPANDLCYPGNFNDYEELKHLLSRINHFEKIQIIPKDSWSDHEASGVSSACPYQGRSSFFRNVVWLTKKNDAYPTIKKSYNNTNQEDLLVLWGIHHPNDAAEQTRLYQNPTTYISVGTSTLNQRLVPKIATRSKVNGQSGRMEFFWTILKSNDAINFESNGNFIAPENAYKIVKKGDSTIIKSELEYSNCNTKCQTPIGAINSSMPFHNIHPLTIGECPKYVKSNRLVLATGLRNSPQGEKRRKKRGLFGAIAGFIEGGWQGMVDGWYGYHHSNEQGSGYAADKESTQRAIDGVTNKVNSIIDKMNTQFEAVGREFNNLERRIENLNKKMEDGFLDVWTYNAELLVLMENERTLDFHDSNVKNLYDKVRLQLRDNAKELGNGCFEFYHRCDNECMESVRNGTYDYPQYSEEARLKREEISGVKLESIGTYQILSIYSTVASSLALAIMVAGLSLWMCSNGSLQCRICI\n",
      "RecName: Full=Neuraminidase {ECO:0000256|HAMAP-Rule:MF_04071, ECO:0000256|RuleBase:RU361252}; EC=3.2.1.18 {ECO:0000256|HAMAP-Rule:MF_04071, ECO:0000256|RuleBase:RU361252};\n",
      "MNPNQKIITIGSICIVIGIASLMLQIGNIISIWISHSIQTGNQCQDESISNTKFLAEKAVASVTLAGNSSLCPVSGWAVYSKDNSIRIGSKGDVFVIREPFISCSHLECRTFFLTQGALLNDKHSNGTVKDRSPHRTLMSCPVGEAPSPYNSRFESVAWSASACHDGTSWLTIGISGPDSGAVAVLKYNGIITDTIKSWRNNIMRTQESECACVNGSCFTIITDGPSSGQASYKIFKMEKGKVIKSVELDAPNYHYEECSCYPDAGEITCVCRDNWHGSNRPWISFNQNLEYQIGYICSGVFGDNPRPNDGTGSCGPVFPNGAYGVKGFSFKYGNGVWIGRTKSTNSRSGFEMIWDPNGWTGTDSSFSVKQDIVAITEWSGYSGSFVQHPELTGLDCIRPCFWVELIRGRPKESTIWTSGSSISFCGVNGDTVSWSWPDGAELPFTIDK\n",
      "RecName: Full=Matrix protein 2 {ECO:0000256|HAMAP-Rule:MF_04069, ECO:0000256|RuleBase:RU361247}; AltName: Full=Proton channel protein M2 {ECO:0000256|HAMAP-Rule:MF_04069};\n",
      "MSLLTEVETPTRSEWECKCSDSNDPLVIAANIIGILHLILWISDRLFFKCVYRHFKYGLKRGPSTEGVPESMREEYQQEQQSAVDVDDGHFVNIELE\n"
     ]
    }
   ],
   "source": [
    "for code in accessCodes:\n",
    "    readFile = code+'.txt'\n",
    "    with open(os.path.join(dataDirectory,readFile),'r') as handle:\n",
    "        record=SwissProt.read(handle)\n",
    "        print(record.description)\n",
    "        print(record.sequence)"
   ]
  },
  {
   "cell_type": "code",
   "execution_count": null,
   "id": "3528b0ed-7aad-4666-9f0a-45c6fc7a6b92",
   "metadata": {},
   "outputs": [],
   "source": [
    "from Bio import __version__"
   ]
  },
  {
   "cell_type": "code",
   "execution_count": null,
   "id": "35643193-53c8-4e32-bb64-d501b7fb48fc",
   "metadata": {},
   "outputs": [],
   "source": [
    "__version__"
   ]
  },
  {
   "cell_type": "code",
   "execution_count": null,
   "id": "63707825-eb80-42c5-869b-96e5e449c844",
   "metadata": {},
   "outputs": [],
   "source": []
  }
 ],
 "metadata": {
  "kernelspec": {
   "display_name": "Python 3 (ipykernel)",
   "language": "python",
   "name": "python3"
  },
  "language_info": {
   "codemirror_mode": {
    "name": "ipython",
    "version": 3
   },
   "file_extension": ".py",
   "mimetype": "text/x-python",
   "name": "python",
   "nbconvert_exporter": "python",
   "pygments_lexer": "ipython3",
   "version": "3.12.2"
  }
 },
 "nbformat": 4,
 "nbformat_minor": 5
}
