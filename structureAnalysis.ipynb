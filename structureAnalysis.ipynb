{
 "cells": [
  {
   "cell_type": "markdown",
   "id": "de89867b-be63-4f3f-83c1-972fd8b7b3a7",
   "metadata": {},
   "source": [
    "### extract data from mmCIF files for summary dataframe"
   ]
  },
  {
   "cell_type": "code",
   "execution_count": 1,
   "id": "07373d8f-1ba6-465a-9eb2-fb607d608c24",
   "metadata": {},
   "outputs": [],
   "source": [
    "from Bio.PDB import PDBList                  # fetches/saves PDB data\n",
    "from Bio.PDB.MMCIF2Dict import MMCIF2Dict    # parses data in mmCIF files\n",
    "import pandas as pd\n",
    "import os"
   ]
  },
  {
   "cell_type": "code",
   "execution_count": 3,
   "id": "4bd634e2-e2bc-4a55-b3dd-62aad9909b88",
   "metadata": {},
   "outputs": [],
   "source": [
    "# define CIF tokens to process. some are repeated in the asu and the assembly, some are not, \n",
    "# as the assembly can have fewer instances of entities. also, some others are not present in assembly, \n",
    "# like title and id, src, etc. so we need to grab some from asu and some from assembly.\n",
    "# key is name of field (column) in database (dataframe), and value is the CIF token.\n",
    "\n",
    "# tokens from asu entry are all single element entries\n",
    "asuTokens = { 'pdbid': '_entry.id',\\\n",
    "            'date': '_pdbx_database_status.recvd_initial_deposition_date',\\\n",
    "            'method': '_exptl.method',\\\n",
    "            'title': '_struct.title',\\\n",
    "            'gene': '_entity_src_gen.pdbx_gene_src_gene',\\\n",
    "            'species': '_entity_src_gen.pdbx_gene_src_scientific_name',\\\n",
    "            'keywords': '_struct_keywords.pdbx_keywords',\\\n",
    "            'text': '_struct_keywords.text'\n",
    "          }\n",
    "# all keys from assembly are lists of multiple entries\n",
    "assemblyTokens = {'polyid': '_entity_poly.entity_id',\\\n",
    "                'polytype': '_entity_poly.type',\\\n",
    "                'seq': '_entity_poly.pdbx_seq_one_letter_code_can',\\\n",
    "                'polystrand': '_entity_poly.pdbx_strand_id',\\\n",
    "                'entityid': '_entity.id',\\\n",
    "                'entitytype': '_entity.type',\\\n",
    "                'descr': '_entity.pdbx_description',\\\n",
    "                'MW': '_entity.formula_weight',\\\n",
    "                'number': '_entity.pdbx_number_of_molecules'\n",
    "               }"
   ]
  },
  {
   "cell_type": "code",
   "execution_count": 5,
   "id": "daaa0a98-ebb8-4667-b846-df6427069283",
   "metadata": {},
   "outputs": [
    {
     "name": "stdout",
     "output_type": "stream",
     "text": [
      "Structure exists: 'asu/4nm6.cif' \n",
      "Structure exists: 'assembly/4nm6-assembly1.cif' \n"
     ]
    }
   ],
   "source": [
    "# define pdb code, data directories. load and parse both asu and assembly file\n",
    "pdbCode           = '4nm6'\n",
    "asuDirectory      = 'asu'\n",
    "assemblyDirectory = 'assembly'\n",
    "pdblist = PDBList()\n",
    "pdblist.retrieve_pdb_file(pdbCode,pdir=asuDirectory,file_format='mmCif')\n",
    "pdblist.retrieve_assembly_file(pdbCode,1,pdir=assemblyDirectory,file_format='mmCif')\n",
    "asucif       = MMCIF2Dict(asuDirectory+'/'+pdbCode+'.cif')\n",
    "assemblycif  = MMCIF2Dict(assemblyDirectory+'/'+pdbCode+'-assembly1.cif')"
   ]
  },
  {
   "cell_type": "code",
   "execution_count": 7,
   "id": "a3530db6-2876-4524-84ce-a9a9ff8453ee",
   "metadata": {},
   "outputs": [
    {
     "name": "stdout",
     "output_type": "stream",
     "text": [
      "pdbid ['4NM6']\n",
      "date ['2013-11-14']\n",
      "method ['X-RAY DIFFRACTION']\n",
      "title ['Crystal structure of TET2-DNA complex']\n",
      "gene ['TET2, KIAA1546, Nbla00191', 'TET2, KIAA1546, Nbla00191']\n",
      "species ['Homo sapiens', 'Homo sapiens']\n",
      "keywords ['OXIDOREDUCTASE/DNA']\n",
      "text ['DNA hydroxylation, OXIDOREDUCTASE-DNA complex']\n",
      "polyid ['1', '2']\n",
      "polytype ['polypeptide(L)', 'polydeoxyribonucleotide']\n",
      "seq ['GGSDFPSCRCVEQIIEKDEGPFYTHLGAGPNVAAIREIMEERFGQKGKAIRIERVIYTGKEGKSSQGCPIAKWVVRRSSS\\nEEKLLCLVRERAGHTCEAAVIVILILVWEGIPLSLADKLYSELTETLRKYGTLTNRRCALNEERTCACQGLDPETCGASF\\nSFGCSWSMYYNGCKFARSKIPRKFKLLGDDPKEEEKLESHLQNLSTLMAPTYKKLAPDAYNNQIEYEHRAPECRLGLKEG\\nRPFSGVTACLDFCAHAHRDLHNMQNGSTLVCTLTREDNREFGGKPEDEQLHVLPLYKVSDVDEFGSVEAQEEKKRSGAIQ\\nVLSSFRRKVRMLAEPVKTCRQRKLEAKKAAAEKLSGGGGSGGGGSGGGGSDEVWSDSEQSFLDPDIGGVAVAPTHGSILI\\nECAKRELHATTPLKNPNRNHPTRISLVFYQHKSMNEPKHGLALWEAKMAEKAREKEEECEKYG', 'ACCACCGGTGGT']\n",
      "polystrand ['A', 'B,C']\n",
      "entityid ['1', '2', '3', '4', '5', '6']\n",
      "entitytype ['polymer', 'polymer', 'non-polymer', 'non-polymer', 'non-polymer', 'water']\n",
      "descr ['Methylcytosine dioxygenase TET2', \"5'-D(*AP*CP*CP*AP*CP*(5CM)P*GP*GP*TP*GP*GP*T)-3'\", 'ZINC ION', 'FE (II) ION', 'N-OXALYLGLYCINE', 'water']\n",
      "MW ['51454.398', '3677.419', '65.409', '55.845', '147.086', '18.015']\n",
      "number ['1', '2', '3', '1', '1', '131']\n"
     ]
    }
   ],
   "source": [
    "# create the asuDict and the assemblyDict\n",
    "asuDict = {}\n",
    "for k,v in asuTokens.items():\n",
    "    asuDict[k] = asucif[v]\n",
    "    print(k,asuDict[k])\n",
    "assemblyDict = {}\n",
    "for k,v in assemblyTokens.items():\n",
    "    assemblyDict[k] = assemblycif[v]\n",
    "    print(k,assemblyDict[k])\n"
   ]
  },
  {
   "cell_type": "code",
   "execution_count": 25,
   "id": "ac038036-eaa4-48af-a29d-2636fdab5f3c",
   "metadata": {},
   "outputs": [
    {
     "name": "stdout",
     "output_type": "stream",
     "text": [
      "polymers:\n",
      "('1', 'polypeptide(L)', 'GGSDFPSCRCVEQIIEKDEGPFYTHLGAGPNVAAIREIMEERFGQKGKAIRIERVIYTGKEGKSSQGCPIAKWVVRRSSS\\nEEKLLCLVRERAGHTCEAAVIVILILVWEGIPLSLADKLYSELTETLRKYGTLTNRRCALNEERTCACQGLDPETCGASF\\nSFGCSWSMYYNGCKFARSKIPRKFKLLGDDPKEEEKLESHLQNLSTLMAPTYKKLAPDAYNNQIEYEHRAPECRLGLKEG\\nRPFSGVTACLDFCAHAHRDLHNMQNGSTLVCTLTREDNREFGGKPEDEQLHVLPLYKVSDVDEFGSVEAQEEKKRSGAIQ\\nVLSSFRRKVRMLAEPVKTCRQRKLEAKKAAAEKLSGGGGSGGGGSGGGGSDEVWSDSEQSFLDPDIGGVAVAPTHGSILI\\nECAKRELHATTPLKNPNRNHPTRISLVFYQHKSMNEPKHGLALWEAKMAEKAREKEEECEKYG', 'A')\n",
      "('2', 'polydeoxyribonucleotide', 'ACCACCGGTGGT', 'B,C')\n",
      "\n",
      "entities:\n",
      "('1', 'polymer', 'Methylcytosine dioxygenase TET2', '51454.398', '1')\n",
      "('2', 'polymer', \"5'-D(*AP*CP*CP*AP*CP*(5CM)P*GP*GP*TP*GP*GP*T)-3'\", '3677.419', '2')\n",
      "('3', 'non-polymer', 'ZINC ION', '65.409', '3')\n",
      "('4', 'non-polymer', 'FE (II) ION', '55.845', '1')\n",
      "('5', 'non-polymer', 'N-OXALYLGLYCINE', '147.086', '1')\n",
      "('6', 'water', 'water', '18.015', '131')\n"
     ]
    }
   ],
   "source": [
    "polymers=list(zip(assemblyDict['polyid'],assemblyDict['polytype'],assemblyDict['seq'],assemblyDict[ 'polystrand' ]) )\n",
    "entities=list(zip(assemblyDict['entityid'],assemblyDict['entitytype'],assemblyDict['descr'],assemblyDict['MW'],assemblyDict['number']))\n",
    "print('polymers:')\n",
    "for p in polymers:\n",
    "    print(p)\n",
    "    if p[1]=='polypeptide(L)':\n",
    "        proteinSequence = p[2]\n",
    "        proteinChain = p[-1]\n",
    "    elif p[1]=='polydeoxyribonucleotide':\n",
    "        dnaSequence = p[2]\n",
    "        dnaChain = p[-1]\n",
    "print('\\nentities:')\n",
    "MW = []\n",
    "number = []\n",
    "for e in entities:\n",
    "    print(e)\n",
    "    if e[1] == 'polymer': \n",
    "        MW.append( e[-2] )\n",
    "        number.append( e[-1] )"
   ]
  },
  {
   "cell_type": "code",
   "execution_count": 27,
   "id": "c925e943-0637-4292-94a7-52aea1e29766",
   "metadata": {},
   "outputs": [
    {
     "name": "stdout",
     "output_type": "stream",
     "text": [
      "protein sequence: GGSDFPSCRCVEQIIEKDEGPFYTHLGAGPNVAAIREIMEERFGQKGKAIRIERVIYTGKEGKSSQGCPIAKWVVRRSSS\n",
      "EEKLLCLVRERAGHTCEAAVIVILILVWEGIPLSLADKLYSELTETLRKYGTLTNRRCALNEERTCACQGLDPETCGASF\n",
      "SFGCSWSMYYNGCKFARSKIPRKFKLLGDDPKEEEKLESHLQNLSTLMAPTYKKLAPDAYNNQIEYEHRAPECRLGLKEG\n",
      "RPFSGVTACLDFCAHAHRDLHNMQNGSTLVCTLTREDNREFGGKPEDEQLHVLPLYKVSDVDEFGSVEAQEEKKRSGAIQ\n",
      "VLSSFRRKVRMLAEPVKTCRQRKLEAKKAAAEKLSGGGGSGGGGSGGGGSDEVWSDSEQSFLDPDIGGVAVAPTHGSILI\n",
      "ECAKRELHATTPLKNPNRNHPTRISLVFYQHKSMNEPKHGLALWEAKMAEKAREKEEECEKYG\n",
      "protein chain: A\n",
      "dna sequence: ACCACCGGTGGT\n",
      "dna chain: B,C\n",
      "MW: ['51454.398', '3677.419']\n",
      "number: ['1', '2']\n"
     ]
    }
   ],
   "source": [
    "print('protein sequence:',proteinSequence)\n",
    "print('protein chain:', proteinChain )\n",
    "print('dna sequence:', dnaSequence )\n",
    "print('dna chain:', dnaChain)\n",
    "print('MW:',MW)\n",
    "print('number:',number)"
   ]
  },
  {
   "cell_type": "code",
   "execution_count": null,
   "id": "cdffe2d8-3f61-449c-a80e-2f9363aaee93",
   "metadata": {},
   "outputs": [],
   "source": [
    "print(entities)"
   ]
  },
  {
   "cell_type": "code",
   "execution_count": null,
   "id": "d6ecebb6-5287-4eba-98a5-4d9971a93e05",
   "metadata": {},
   "outputs": [],
   "source": [
    "a[1].append(200)"
   ]
  },
  {
   "cell_type": "code",
   "execution_count": null,
   "id": "79512684-3432-4b94-9bad-82a36e3f6e3a",
   "metadata": {},
   "outputs": [],
   "source": [
    "a"
   ]
  },
  {
   "cell_type": "code",
   "execution_count": null,
   "id": "b4101d92-53b7-44df-8ea6-63073262f006",
   "metadata": {},
   "outputs": [],
   "source": []
  }
 ],
 "metadata": {
  "kernelspec": {
   "display_name": "Python 3 (ipykernel)",
   "language": "python",
   "name": "python3"
  },
  "language_info": {
   "codemirror_mode": {
    "name": "ipython",
    "version": 3
   },
   "file_extension": ".py",
   "mimetype": "text/x-python",
   "name": "python",
   "nbconvert_exporter": "python",
   "pygments_lexer": "ipython3",
   "version": "3.12.2"
  }
 },
 "nbformat": 4,
 "nbformat_minor": 5
}
