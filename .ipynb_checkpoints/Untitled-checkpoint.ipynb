{
 "cells": [
  {
   "cell_type": "code",
   "execution_count": 1,
   "id": "07373d8f-1ba6-465a-9eb2-fb607d608c24",
   "metadata": {},
   "outputs": [],
   "source": [
    "import requests\n",
    "import json"
   ]
  },
  {
   "cell_type": "code",
   "execution_count": 3,
   "id": "115ab7ca-e26f-48d0-a506-b232205f6a77",
   "metadata": {},
   "outputs": [],
   "source": [
    "# the url of the PDBe database\n",
    "urlPrefix = 'https://www.ebi.ac.uk/pdbe/api/pdb/entry/summary/'"
   ]
  },
  {
   "cell_type": "code",
   "execution_count": 11,
   "id": "54014906-b4ad-446b-83d7-de76169eaa8b",
   "metadata": {},
   "outputs": [
    {
     "name": "stdout",
     "output_type": "stream",
     "text": [
      "json format downloaded:\n",
      "{\"1cbs\":[{\"title\":\"CRYSTAL STRUCTURE OF CELLULAR RETINOIC-ACID-BINDING PROTEINS I AND II IN COMPLEX WITH ALL-TRANS-RETINOIC ACID AND A SYNTHETIC RETINOID\",\"processing_site\":\"BNL\",\"deposition_site\":null,\"deposition_date\":\"19940928\",\"release_date\":\"19950126\",\"revision_date\":\"20240207\",\"experimental_method_class\":[\"x-ray\"],\"experimental_method\":[\"X-ray diffraction\"],\"split_entry\":[],\"related_structures\":[],\"entry_authors\":[\"Kleywegt, G.J.\",\"Bergfors, T.\",\"Jones, T.A.\"],\"number_of_entities\":{\"water\":1,\"polypeptide\":1,\"dna\":0,\"rna\":0,\"sugar\":0,\"ligand\":1,\"dna/rna\":0,\"other\":0,\"carbohydrate_polymer\":0},\"assemblies\":[{\"assembly_id\":\"1\",\"name\":\"monomer\",\"form\":\"homo\",\"preferred\":true}]}]}\n",
      "python dictionary created:\n",
      " {'1cbs': [{'title': 'CRYSTAL STRUCTURE OF CELLULAR RETINOIC-ACID-BINDING PROTEINS I AND II IN COMPLEX WITH ALL-TRANS-RETINOIC ACID AND A SYNTHETIC RETINOID', 'processing_site': 'BNL', 'deposition_site': None, 'deposition_date': '19940928', 'release_date': '19950126', 'revision_date': '20240207', 'experimental_method_class': ['x-ray'], 'experimental_method': ['X-ray diffraction'], 'split_entry': [], 'related_structures': [], 'entry_authors': ['Kleywegt, G.J.', 'Bergfors, T.', 'Jones, T.A.'], 'number_of_entities': {'water': 1, 'polypeptide': 1, 'dna': 0, 'rna': 0, 'sugar': 0, 'ligand': 1, 'dna/rna': 0, 'other': 0, 'carbohydrate_polymer': 0}, 'assemblies': [{'assembly_id': '1', 'name': 'monomer', 'form': 'homo', 'preferred': True}]}]}\n"
     ]
    }
   ],
   "source": [
    "# download multiple entries\n",
    "codes=['1axs','2zo2']\n",
    "\n",
    "codeString = ','.join(codes)\n",
    "print(codeString)\n",
    "report=requests.post(urlPrefix,data=codeString)\n",
    "reportDict = json.loads(report.text)\n",
    "print('json format downloaded:\\n'+report.text)\n",
    "print('python dictionary created:')\n",
    "reportDict\n",
    "\n",
    "# download a single entry\n",
    "code='1cbs'\n",
    "\n",
    "report=requests.get(urlPrefix+code)\n",
    "reportDict = json.loads(report.text)\n",
    "#print('json format downloaded:\\n'+report.text)\n",
    "#print('python dictionary created:\\n',reportDict)"
   ]
  },
  {
   "cell_type": "code",
   "execution_count": null,
   "id": "87c02c0b-0af8-40c7-8f22-da9d4003d901",
   "metadata": {},
   "outputs": [],
   "source": [
    "summaryTokens = ['title', 'processing_site', 'deposition_site', 'deposition_date', 'release_date', 'revision_date', \\\n",
    "                 'experimental_method_class', 'experimental_method', 'split_entry', 'related_structures', 'entry_authors', \\\n",
    "                 'number_of_entities', 'assemblies']\n",
    "\n",
    "dataDictTokens = ['title', 'deposition_date', \\\n",
    "                  'experimental_method', 'related_structures', \\\n",
    "                 'number_of_entities', 'assemblies']\n"
   ]
  },
  {
   "cell_type": "code",
   "execution_count": 17,
   "id": "161e8c68-6de6-40d1-96e3-b1b1ca90e144",
   "metadata": {},
   "outputs": [
    {
     "name": "stdout",
     "output_type": "stream",
     "text": [
      "1axs,2zo2\n",
      "json format downloaded:\n",
      "{\"1axs\":[{\"title\":\"MATURE OXY-COPE CATALYTIC ANTIBODY WITH HAPTEN\",\"processing_site\":\"BNL\",\"deposition_site\":null,\"deposition_date\":\"19971020\",\"release_date\":\"19980204\",\"revision_date\":\"20241030\",\"experimental_method_class\":[\"x-ray\"],\"experimental_method\":[\"X-ray diffraction\"],\"split_entry\":[],\"related_structures\":[],\"entry_authors\":[\"Mundorff, E.C.\",\"Ulrich, H.D.\",\"Stevens, R.C.\"],\"number_of_entities\":{\"water\":1,\"polypeptide\":2,\"dna\":0,\"rna\":0,\"sugar\":0,\"ligand\":2,\"dna/rna\":0,\"other\":0,\"carbohydrate_polymer\":0},\"assemblies\":[{\"assembly_id\":\"1\",\"name\":\"dimer\",\"form\":\"hetero\",\"preferred\":false},{\"assembly_id\":\"2\",\"name\":\"dimer\",\"form\":\"hetero\",\"preferred\":true}]}],\"2zo2\":[{\"title\":\"Mouse NP95 SRA domain non-specific DNA complex\",\"processing_site\":\"PDBJ\",\"deposition_site\":\"PDBJ\",\"deposition_date\":\"20080505\",\"release_date\":\"20080909\",\"revision_date\":\"20231101\",\"experimental_method_class\":[\"x-ray\"],\"experimental_method\":[\"X-ray diffraction\"],\"split_entry\":[],\"related_structures\":[],\"entry_authors\":[\"Hashimoto, H.\",\"Horton, J.R.\",\"Cheng, X.\"],\"number_of_entities\":{\"water\":0,\"polypeptide\":1,\"dna\":1,\"rna\":0,\"sugar\":0,\"ligand\":1,\"dna/rna\":0,\"other\":0,\"carbohydrate_polymer\":0},\"assemblies\":[{\"assembly_id\":\"1\",\"name\":\"trimer\",\"form\":\"hetero\",\"preferred\":true},{\"assembly_id\":\"2\",\"name\":\"dimer\",\"form\":\"homo\",\"preferred\":false},{\"assembly_id\":\"3\",\"name\":\"monomer\",\"form\":\"homo\",\"preferred\":false},{\"assembly_id\":\"4\",\"name\":\"hexamer\",\"form\":\"hetero\",\"preferred\":false}]}]}\n",
      "python dictionary created:\n"
     ]
    },
    {
     "data": {
      "text/plain": [
       "{'1axs': [{'title': 'MATURE OXY-COPE CATALYTIC ANTIBODY WITH HAPTEN',\n",
       "   'processing_site': 'BNL',\n",
       "   'deposition_site': None,\n",
       "   'deposition_date': '19971020',\n",
       "   'release_date': '19980204',\n",
       "   'revision_date': '20241030',\n",
       "   'experimental_method_class': ['x-ray'],\n",
       "   'experimental_method': ['X-ray diffraction'],\n",
       "   'split_entry': [],\n",
       "   'related_structures': [],\n",
       "   'entry_authors': ['Mundorff, E.C.', 'Ulrich, H.D.', 'Stevens, R.C.'],\n",
       "   'number_of_entities': {'water': 1,\n",
       "    'polypeptide': 2,\n",
       "    'dna': 0,\n",
       "    'rna': 0,\n",
       "    'sugar': 0,\n",
       "    'ligand': 2,\n",
       "    'dna/rna': 0,\n",
       "    'other': 0,\n",
       "    'carbohydrate_polymer': 0},\n",
       "   'assemblies': [{'assembly_id': '1',\n",
       "     'name': 'dimer',\n",
       "     'form': 'hetero',\n",
       "     'preferred': False},\n",
       "    {'assembly_id': '2',\n",
       "     'name': 'dimer',\n",
       "     'form': 'hetero',\n",
       "     'preferred': True}]}],\n",
       " '2zo2': [{'title': 'Mouse NP95 SRA domain non-specific DNA complex',\n",
       "   'processing_site': 'PDBJ',\n",
       "   'deposition_site': 'PDBJ',\n",
       "   'deposition_date': '20080505',\n",
       "   'release_date': '20080909',\n",
       "   'revision_date': '20231101',\n",
       "   'experimental_method_class': ['x-ray'],\n",
       "   'experimental_method': ['X-ray diffraction'],\n",
       "   'split_entry': [],\n",
       "   'related_structures': [],\n",
       "   'entry_authors': ['Hashimoto, H.', 'Horton, J.R.', 'Cheng, X.'],\n",
       "   'number_of_entities': {'water': 0,\n",
       "    'polypeptide': 1,\n",
       "    'dna': 1,\n",
       "    'rna': 0,\n",
       "    'sugar': 0,\n",
       "    'ligand': 1,\n",
       "    'dna/rna': 0,\n",
       "    'other': 0,\n",
       "    'carbohydrate_polymer': 0},\n",
       "   'assemblies': [{'assembly_id': '1',\n",
       "     'name': 'trimer',\n",
       "     'form': 'hetero',\n",
       "     'preferred': True},\n",
       "    {'assembly_id': '2', 'name': 'dimer', 'form': 'homo', 'preferred': False},\n",
       "    {'assembly_id': '3',\n",
       "     'name': 'monomer',\n",
       "     'form': 'homo',\n",
       "     'preferred': False},\n",
       "    {'assembly_id': '4',\n",
       "     'name': 'hexamer',\n",
       "     'form': 'hetero',\n",
       "     'preferred': False}]}]}"
      ]
     },
     "execution_count": 17,
     "metadata": {},
     "output_type": "execute_result"
    }
   ],
   "source": [
    "\n"
   ]
  },
  {
   "cell_type": "code",
   "execution_count": 27,
   "id": "93b6c3e8-a6d4-4aae-8cdb-8a214ec18640",
   "metadata": {},
   "outputs": [
    {
     "data": {
      "text/plain": [
       "dict_keys(['title', 'processing_site', 'deposition_site', 'deposition_date', 'release_date', 'revision_date', 'experimental_method_class', 'experimental_method', 'split_entry', 'related_structures', 'entry_authors', 'number_of_entities', 'assemblies'])"
      ]
     },
     "execution_count": 27,
     "metadata": {},
     "output_type": "execute_result"
    }
   ],
   "source": [
    "reportDict['1axs'][0].keys()"
   ]
  },
  {
   "cell_type": "code",
   "execution_count": null,
   "id": "f182cb2f-7e3f-45f1-8ce9-b6b29e13aa22",
   "metadata": {},
   "outputs": [],
   "source": []
  }
 ],
 "metadata": {
  "kernelspec": {
   "display_name": "Python 3 (ipykernel)",
   "language": "python",
   "name": "python3"
  },
  "language_info": {
   "codemirror_mode": {
    "name": "ipython",
    "version": 3
   },
   "file_extension": ".py",
   "mimetype": "text/x-python",
   "name": "python",
   "nbconvert_exporter": "python",
   "pygments_lexer": "ipython3",
   "version": "3.12.2"
  }
 },
 "nbformat": 4,
 "nbformat_minor": 5
}
