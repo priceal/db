{
 "cells": [
  {
   "cell_type": "code",
   "execution_count": null,
   "id": "07373d8f-1ba6-465a-9eb2-fb607d608c24",
   "metadata": {},
   "outputs": [],
   "source": [
    "import requests\n",
    "import json"
   ]
  },
  {
   "cell_type": "code",
   "execution_count": null,
   "id": "115ab7ca-e26f-48d0-a506-b232205f6a77",
   "metadata": {},
   "outputs": [],
   "source": [
    "# the url of the PDBe database\n",
    "urlPrefix = 'https://www.ebi.ac.uk/pdbe/api/pdb/entry/summary/'"
   ]
  },
  {
   "cell_type": "code",
   "execution_count": null,
   "id": "54014906-b4ad-446b-83d7-de76169eaa8b",
   "metadata": {},
   "outputs": [],
   "source": [
    "# download multiple entries\n",
    "codes=['1axs','2zo2']\n",
    "\n",
    "codeString = ','.join(codes)\n",
    "print(codeString)\n",
    "report=requests.post(urlPrefix,data=codeString)\n",
    "reportDict = json.loads(report.text)\n",
    "print('json format downloaded:\\n'+report.text)\n",
    "print('python dictionary created:')\n",
    "reportDict\n",
    "\n",
    "# download a single entry\n",
    "code='1cbs'\n",
    "\n",
    "report=requests.get(urlPrefix+code)\n",
    "reportDict = json.loads(report.text)\n",
    "#print('json format downloaded:\\n'+report.text)\n",
    "#print('python dictionary created:\\n',reportDict)"
   ]
  },
  {
   "cell_type": "code",
   "execution_count": null,
   "id": "87c02c0b-0af8-40c7-8f22-da9d4003d901",
   "metadata": {},
   "outputs": [],
   "source": [
    "summaryTokens = ['title', 'processing_site', 'deposition_site', 'deposition_date', 'release_date', 'revision_date', \\\n",
    "                 'experimental_method_class', 'experimental_method', 'split_entry', 'related_structures', 'entry_authors', \\\n",
    "                 'number_of_entities', 'assemblies']\n",
    "\n",
    "dataDictTokens = ['title', 'deposition_date', \\\n",
    "                  'experimental_method', 'related_structures', \\\n",
    "                 'number_of_entities', 'assemblies']\n"
   ]
  },
  {
   "cell_type": "code",
   "execution_count": null,
   "id": "161e8c68-6de6-40d1-96e3-b1b1ca90e144",
   "metadata": {},
   "outputs": [],
   "source": [
    "\n"
   ]
  },
  {
   "cell_type": "code",
   "execution_count": null,
   "id": "93b6c3e8-a6d4-4aae-8cdb-8a214ec18640",
   "metadata": {},
   "outputs": [],
   "source": [
    "reportDict['1axs'][0].keys()"
   ]
  },
  {
   "cell_type": "code",
   "execution_count": null,
   "id": "f182cb2f-7e3f-45f1-8ce9-b6b29e13aa22",
   "metadata": {},
   "outputs": [],
   "source": []
  }
 ],
 "metadata": {
  "kernelspec": {
   "display_name": "Python 3 (ipykernel)",
   "language": "python",
   "name": "python3"
  },
  "language_info": {
   "codemirror_mode": {
    "name": "ipython",
    "version": 3
   },
   "file_extension": ".py",
   "mimetype": "text/x-python",
   "name": "python",
   "nbconvert_exporter": "python",
   "pygments_lexer": "ipython3",
   "version": "3.12.2"
  }
 },
 "nbformat": 4,
 "nbformat_minor": 5
}
