{
 "cells": [
  {
   "cell_type": "code",
   "execution_count": 1,
   "id": "07373d8f-1ba6-465a-9eb2-fb607d608c24",
   "metadata": {},
   "outputs": [],
   "source": [
    "import requests\n",
    "import json\n",
    "import pandas as pd\n",
    "from itertools import batched\n",
    "import os"
   ]
  },
  {
   "cell_type": "code",
   "execution_count": 3,
   "id": "841c5fb5-76de-465e-84b4-29aa4aed8502",
   "metadata": {},
   "outputs": [
    {
     "name": "stdout",
     "output_type": "stream",
     "text": [
      "1000 codes\n",
      "\n"
     ]
    }
   ],
   "source": [
    "# read in list of pdb codes for initial consideration\n",
    "pdbCodeFile = './pdbListAll.txt'\n",
    "\n",
    "# file contains comma separated list of pdb ids\n",
    "with open(pdbCodeFile) as f:\n",
    "    fileRead=f.read()\n",
    "pdbCodes = fileRead.strip().split(' ')\n",
    "\n",
    "'''\n",
    "# dsv file with one column labeled 'pdbid'\n",
    "df = pd.read_csv(pdbCodeFile)\n",
    "pdbCodes=list(df['pdbid'])\n",
    "'''\n",
    "\n",
    "pdbCodes = pdbCodes[:1000]\n",
    "\n",
    "print(len(pdbCodes),'codes\\n')"
   ]
  },
  {
   "cell_type": "code",
   "execution_count": null,
   "id": "108a4350-b4b8-4802-9926-5e6e5338e065",
   "metadata": {},
   "outputs": [],
   "source": [
    "# download multiple entries, taking care that PDBe only allows batches up to 1000 at a time\n",
    "batchSize = 100  # must be less than 1000\n",
    "\n",
    "urlPrefix = 'https://www.ebi.ac.uk/pdbe/api/pdb/entry/summary/'\n",
    "pdbCodesBatched = batched( pdbCodes, batchSize ) # first separate list of codes into batches of 1000 \n",
    "reportDict = {}\n",
    "for batch in pdbCodesBatched:\n",
    "    print('downloading batch...', end='')\n",
    "    codeString = ','.join(batch)\n",
    "    report=requests.post(urlPrefix,data=codeString)\n",
    "    reportDict.update( json.loads(report.text) )\n",
    "    print(len(reportDict),'total entries')\n",
    "print(len(reportDict),'entries downloaded')"
   ]
  },
  {
   "cell_type": "code",
   "execution_count": null,
   "id": "87c02c0b-0af8-40c7-8f22-da9d4003d901",
   "metadata": {},
   "outputs": [],
   "source": [
    "# create summary dataframe from downloaded dictionary\n",
    "\n",
    "'''\n",
    "# keys in downloaded dictionary - not used below but listed here for completeness\n",
    "entryKeys = ['title', 'processing_site', 'deposition_site', 'deposition_date', 'release_date', 'revision_date', \\\n",
    "             'experimental_method_class', 'experimental_method', 'split_entry', 'related_structures', 'entry_authors', \\\n",
    "             'number_of_entities', 'assemblies']\n",
    "'''\n",
    "\n",
    "## lists of keys that will be used:\n",
    "\n",
    "# 1. keys with numerical, string or list values\n",
    "simpleKeys = ['title', 'deposition_date', 'experimental_method']\n",
    "\n",
    "# 2. keys of the sub-dictionaries that are the values associated with keys 'number_of_entities' and 'assemblies'\n",
    "entityKeys = ['water', 'polypeptide', 'dna', 'rna', 'dna/rna', 'sugar', 'ligand', 'carbohydrate_polymer', 'other']\n",
    "assemblyKeys = ['assembly_id', 'name', 'form']\n",
    "\n",
    "# columns (keys) of summary dataframe (dictionary)\n",
    "dataKeys = ['pdbid'] + simpleKeys + entityKeys + ['assemblies'] + assemblyKeys\n",
    "\n",
    "dataDict = { k:[] for k in dataKeys } \n",
    "for pdbid,entry in reportDict.items():\n",
    "    dataDict['pdbid'].append(pdbid)\n",
    "    for k in simpleKeys:\n",
    "        dataDict[k].append(entry[0][k])\n",
    "    for k in entityKeys:\n",
    "        dataDict[k].append(entry[0]['number_of_entities'][k])\n",
    "    dataDict['assemblies'].append(len(entry[0]['assemblies']))\n",
    "\n",
    "    # now go through the assemblies and extract data from preferred assembly: the Protein Data Bank in Europe (PDBe)\n",
    "    # defines the preferred assembly as the smallest assembly containing all polymeric entities.\n",
    "\n",
    "    for d in entry[0]['assemblies']:\n",
    "        if d['preferred']:\n",
    "            for ak in assemblyKeys:\n",
    "                dataDict[ak].append(d[ak])\n",
    "\n",
    "dataDf = pd.DataFrame(dataDict)  "
   ]
  },
  {
   "cell_type": "code",
   "execution_count": null,
   "id": "161e8c68-6de6-40d1-96e3-b1b1ca90e144",
   "metadata": {
    "scrolled": true
   },
   "outputs": [],
   "source": [
    "dataDf"
   ]
  },
  {
   "cell_type": "code",
   "execution_count": null,
   "id": "e482a793-ca73-4d42-b9a3-6460e6bf430f",
   "metadata": {},
   "outputs": [],
   "source": [
    "# download preferred assembly files\n",
    "assemblyDirectory = '../DATA/db/assemblies'\n",
    "\n",
    "os.makedirs(assemblyDirectory,exist_ok=True)\n",
    "for i in dataDf[ dataDf['assembly_id'] == '4' ].index:\n",
    "    code=dataDf.at[i,'pdbid']\n",
    "    assembly=dataDf.at[i,'assembly_id']\n",
    "    fileName = code + '-assembly' + assembly + '.cif'\n",
    "    url = 'https://files.rcsb.org/download/' + fileName\n",
    "    download = requests.get(url)\n",
    "    print(url)\n",
    "    with open( os.path.join(assemblyDirectory,fileName), 'w' ) as f:\n",
    "        f.write( download.text )"
   ]
  },
  {
   "cell_type": "markdown",
   "id": "8e1537eb-9eea-40f1-abfd-af661c201814",
   "metadata": {},
   "source": [
    "# code for downloading PDBe - molecules\n",
    "to get list of which chains are protein and which are DNA\n",
    "\n",
    "https://www.ebi.ac.uk/pdbe/api/pdb/entry/molecules/:pdbid\n",
    "https://www.ebi.ac.uk/pdbe/api/pdb/entry/molecules/1ph7"
   ]
  },
  {
   "cell_type": "code",
   "execution_count": 5,
   "id": "2e6d9e73-f7b4-4ab6-80ad-a6bdf3ce1646",
   "metadata": {},
   "outputs": [
    {
     "name": "stdout",
     "output_type": "stream",
     "text": [
      "downloading batch...100 total entries\n",
      "downloading batch...200 total entries\n",
      "downloading batch...300 total entries\n",
      "downloading batch...400 total entries\n",
      "downloading batch...500 total entries\n",
      "downloading batch...600 total entries\n",
      "downloading batch...700 total entries\n",
      "downloading batch...800 total entries\n",
      "downloading batch...900 total entries\n",
      "downloading batch...1000 total entries\n",
      "1000 entries downloaded\n"
     ]
    }
   ],
   "source": [
    "# download multiple entries, taking care that PDBe only allows batches up to 1000 at a time\n",
    "batchSize = 100  # must be less than 1000\n",
    "\n",
    "urlPrefix = 'https://www.ebi.ac.uk/pdbe/api/pdb/entry/molecules/'\n",
    "pdbCodesBatched = batched( pdbCodes, batchSize ) # first separate list of codes into batches of 1000 \n",
    "reportDict = {}\n",
    "for batch in pdbCodesBatched:\n",
    "    print('downloading batch...', end='')\n",
    "    codeString = ','.join(batch)\n",
    "    report=requests.post(urlPrefix,data=codeString)\n",
    "    reportDict.update( json.loads(report.text) )\n",
    "    print(len(reportDict),'total entries')\n",
    "print(len(reportDict),'entries downloaded')"
   ]
  },
  {
   "cell_type": "code",
   "execution_count": 7,
   "id": "cbd275de-76e8-434c-8a5e-84075327a114",
   "metadata": {},
   "outputs": [],
   "source": [
    "chainsDict = { k:[] for k in ['pdbid','protein','dna'] } \n",
    "for code,entry in reportDict.items():   # iterates over pdbid, entry\n",
    "    proteinChains=[]\n",
    "    dnaChains=[]\n",
    "    for molecule in entry:\n",
    "        if molecule['molecule_type']=='polypeptide(L)':\n",
    "            proteinChains+=molecule['in_chains']\n",
    "        elif molecule['molecule_type']=='polydeoxyribonucleotide':\n",
    "            dnaChains+=molecule['in_chains']\n",
    "        else: \n",
    "            pass \n",
    "    chainsDict['pdbid'].append(code)\n",
    "    chainsDict['protein'].append(proteinChains)\n",
    "    chainsDict['dna'].append(dnaChains)\n",
    "    "
   ]
  },
  {
   "cell_type": "code",
   "execution_count": 9,
   "id": "0d5fa798-e484-4f0c-b25a-186defd8ff84",
   "metadata": {},
   "outputs": [],
   "source": [
    "chainsDf = pd.DataFrame(chainsDict)"
   ]
  },
  {
   "cell_type": "code",
   "execution_count": 11,
   "id": "1d88f33a-b10a-457a-9d66-f4becbcca099",
   "metadata": {},
   "outputs": [
    {
     "data": {
      "text/html": [
       "<div>\n",
       "<style scoped>\n",
       "    .dataframe tbody tr th:only-of-type {\n",
       "        vertical-align: middle;\n",
       "    }\n",
       "\n",
       "    .dataframe tbody tr th {\n",
       "        vertical-align: top;\n",
       "    }\n",
       "\n",
       "    .dataframe thead th {\n",
       "        text-align: right;\n",
       "    }\n",
       "</style>\n",
       "<table border=\"1\" class=\"dataframe\">\n",
       "  <thead>\n",
       "    <tr style=\"text-align: right;\">\n",
       "      <th></th>\n",
       "      <th>pdbid</th>\n",
       "      <th>protein</th>\n",
       "      <th>dna</th>\n",
       "    </tr>\n",
       "  </thead>\n",
       "  <tbody>\n",
       "    <tr>\n",
       "      <th>0</th>\n",
       "      <td>1bss</td>\n",
       "      <td>[A, B]</td>\n",
       "      <td>[C, D]</td>\n",
       "    </tr>\n",
       "    <tr>\n",
       "      <th>1</th>\n",
       "      <td>1c7u</td>\n",
       "      <td>[A, B]</td>\n",
       "      <td>[C, D]</td>\n",
       "    </tr>\n",
       "    <tr>\n",
       "      <th>2</th>\n",
       "      <td>1bnz</td>\n",
       "      <td>[A]</td>\n",
       "      <td>[B, C]</td>\n",
       "    </tr>\n",
       "    <tr>\n",
       "      <th>3</th>\n",
       "      <td>1ca5</td>\n",
       "      <td>[A]</td>\n",
       "      <td>[B, C]</td>\n",
       "    </tr>\n",
       "    <tr>\n",
       "      <th>4</th>\n",
       "      <td>1c8c</td>\n",
       "      <td>[A]</td>\n",
       "      <td>[B, C]</td>\n",
       "    </tr>\n",
       "    <tr>\n",
       "      <th>...</th>\n",
       "      <td>...</td>\n",
       "      <td>...</td>\n",
       "      <td>...</td>\n",
       "    </tr>\n",
       "    <tr>\n",
       "      <th>995</th>\n",
       "      <td>2cdm</td>\n",
       "      <td>[A, C]</td>\n",
       "      <td>[B, D]</td>\n",
       "    </tr>\n",
       "    <tr>\n",
       "      <th>996</th>\n",
       "      <td>2e52</td>\n",
       "      <td>[A, B, C, D]</td>\n",
       "      <td>[E, F, G, H, I, J]</td>\n",
       "    </tr>\n",
       "    <tr>\n",
       "      <th>997</th>\n",
       "      <td>2e2h</td>\n",
       "      <td>[A, B, C, E, F, H, I, J, K, L]</td>\n",
       "      <td>[T, N]</td>\n",
       "    </tr>\n",
       "    <tr>\n",
       "      <th>998</th>\n",
       "      <td>2e2i</td>\n",
       "      <td>[A, B, C, E, F, H, I, J, K, L]</td>\n",
       "      <td>[T, N]</td>\n",
       "    </tr>\n",
       "    <tr>\n",
       "      <th>999</th>\n",
       "      <td>2e2j</td>\n",
       "      <td>[A, B, C, E, F, H, I, J, K, L]</td>\n",
       "      <td>[T, N]</td>\n",
       "    </tr>\n",
       "  </tbody>\n",
       "</table>\n",
       "<p>1000 rows × 3 columns</p>\n",
       "</div>"
      ],
      "text/plain": [
       "    pdbid                         protein                 dna\n",
       "0    1bss                          [A, B]              [C, D]\n",
       "1    1c7u                          [A, B]              [C, D]\n",
       "2    1bnz                             [A]              [B, C]\n",
       "3    1ca5                             [A]              [B, C]\n",
       "4    1c8c                             [A]              [B, C]\n",
       "..    ...                             ...                 ...\n",
       "995  2cdm                          [A, C]              [B, D]\n",
       "996  2e52                    [A, B, C, D]  [E, F, G, H, I, J]\n",
       "997  2e2h  [A, B, C, E, F, H, I, J, K, L]              [T, N]\n",
       "998  2e2i  [A, B, C, E, F, H, I, J, K, L]              [T, N]\n",
       "999  2e2j  [A, B, C, E, F, H, I, J, K, L]              [T, N]\n",
       "\n",
       "[1000 rows x 3 columns]"
      ]
     },
     "execution_count": 11,
     "metadata": {},
     "output_type": "execute_result"
    }
   ],
   "source": [
    "chainsDf"
   ]
  },
  {
   "cell_type": "code",
   "execution_count": 13,
   "id": "619c8bc4-e0e5-49ab-9ac3-c8a83c8b70d9",
   "metadata": {},
   "outputs": [],
   "source": [
    "chainsDf.to_csv('summaryChains.csv')"
   ]
  },
  {
   "cell_type": "code",
   "execution_count": null,
   "id": "bd497593-98d3-4981-9a70-03b655a8edcc",
   "metadata": {},
   "outputs": [],
   "source": []
  }
 ],
 "metadata": {
  "kernelspec": {
   "display_name": "Python 3 (ipykernel)",
   "language": "python",
   "name": "python3"
  },
  "language_info": {
   "codemirror_mode": {
    "name": "ipython",
    "version": 3
   },
   "file_extension": ".py",
   "mimetype": "text/x-python",
   "name": "python",
   "nbconvert_exporter": "python",
   "pygments_lexer": "ipython3",
   "version": "3.12.2"
  }
 },
 "nbformat": 4,
 "nbformat_minor": 5
}
