{
 "cells": [
  {
   "cell_type": "markdown",
   "id": "de89867b-be63-4f3f-83c1-972fd8b7b3a7",
   "metadata": {},
   "source": [
    "### using biopython to fetch and parse data from PDB"
   ]
  },
  {
   "cell_type": "code",
   "execution_count": 5,
   "id": "07373d8f-1ba6-465a-9eb2-fb607d608c24",
   "metadata": {},
   "outputs": [],
   "source": [
    "from Bio.PDB import PDBList                  # fetches/saves PDB data\n",
    "from Bio.PDB.MMCIF2Dict import MMCIF2Dict    # parses data in mmCIF files\n",
    "import pandas as pd\n",
    "import os"
   ]
  },
  {
   "cell_type": "code",
   "execution_count": 7,
   "id": "b84208c4-0e22-4666-babb-88bfdb7604c1",
   "metadata": {},
   "outputs": [],
   "source": [
    "# setup for fetching multiple entries\n",
    "pdbCodes = ['3fdq','8yvb','4zyd','4ndh','1odg','3wtw','5nj8','6sxb','6njq','8h0l','1sl0','2jpa','4rdm']\n",
    "asuDirectory = 'asu'\n",
    "assemblyDirectory = 'assembly'\n",
    "pdblist=PDBList() "
   ]
  },
  {
   "cell_type": "code",
   "execution_count": 9,
   "id": "daaa0a98-ebb8-4667-b846-df6427069283",
   "metadata": {
    "collapsed": true,
    "jupyter": {
     "outputs_hidden": true
    }
   },
   "outputs": [
    {
     "name": "stdout",
     "output_type": "stream",
     "text": [
      "Downloading PDB structure '3fdq'...\n",
      "Downloading PDB structure '8yvb'...\n",
      "Downloading PDB structure '4ndh'...\n",
      "Downloading PDB structure '4zyd'...\n",
      "Downloading PDB structure '1odg'...\n",
      "Downloading PDB structure '3wtw'...\n",
      "Downloading PDB structure '5nj8'...\n",
      "Downloading PDB structure '6sxb'...\n",
      "Downloading PDB structure '6njq'...\n",
      "Downloading PDB structure '8h0l'...\n",
      "Downloading PDB structure '1sl0'...\n",
      "Downloading PDB structure '2jpa'...\n",
      "Downloading PDB structure '4rdm'...\n",
      "Downloading assembly (1) for PDB entry '3fdq'...\n",
      "Downloading assembly (1) for PDB entry '8yvb'...\n",
      "Downloading assembly (1) for PDB entry '4zyd'...\n",
      "Downloading assembly (1) for PDB entry '4ndh'...\n",
      "Downloading assembly (1) for PDB entry '1odg'...\n",
      "Downloading assembly (1) for PDB entry '3wtw'...\n",
      "Downloading assembly (1) for PDB entry '5nj8'...\n",
      "Downloading assembly (1) for PDB entry '6sxb'...\n",
      "Downloading assembly (1) for PDB entry '6njq'...\n",
      "Downloading assembly (1) for PDB entry '8h0l'...\n",
      "Downloading assembly (1) for PDB entry '1sl0'...\n",
      "Downloading assembly (1) for PDB entry '2jpa'...\n",
      "Downloading assembly (1) for PDB entry '4rdm'...\n"
     ]
    }
   ],
   "source": [
    "# this first fetches an entire list of ASUs\n",
    "pdblist.download_pdb_files(pdbCodes,pdir=asuDirectory,file_format='mmCif')\n",
    "\n",
    "# this goes through list and fetches biological assembly 1 for each code\n",
    "for code in pdbCodes:\n",
    "    pdblist.retrieve_assembly_file(code,1,pdir=assemblyDirectory,file_format='mmCif')"
   ]
  },
  {
   "cell_type": "markdown",
   "id": "fd31feed-1bee-4329-a6ec-5e509aed31ed",
   "metadata": {},
   "source": [
    "### parse the mmCIF files for header information"
   ]
  },
  {
   "cell_type": "code",
   "execution_count": 13,
   "id": "4c41e67e-ec4e-4188-ad23-6c75fbe8a7a3",
   "metadata": {},
   "outputs": [],
   "source": [
    "saveKeys = ['_entry.id','_pdbx_database_status.recvd_initial_deposition_date','_entity.pdbx_description',\\\n",
    "            '_entity_poly.pdbx_seq_one_letter_code_can','_entity.pdbx_fragment',\\\n",
    "            '_entity_poly.pdbx_strand_id','_entity_src_gen.pdbx_gene_src_gene',\\\n",
    "           '_entity_src_gen.pdbx_gene_src_scientific_name',\\\n",
    "           '_struct.title',\\\n",
    "           '_struct_keywords.pdbx_keywords',\\\n",
    "           '_struct_keywords.text',\n",
    "            '_exptl.method',\\\n",
    "           '_entity_poly.type' ]\n",
    "dbKeys = ['_entry.id','_pdbx_database_status.recvd_initial_deposition_date',\\\n",
    "            '_entity_src_gen.pdbx_gene_src_gene',\\\n",
    "           '_entity_src_gen.pdbx_gene_src_scientific_name',\\\n",
    "           '_struct.title',\\\n",
    "           '_struct_keywords.pdbx_keywords',\\\n",
    "            '_exptl.method',\\\n",
    "        '_entity.type',\\\n",
    "        '_entity.pdbx_description' ,\\\n",
    "        '_entity.formula_weight' ,\\\n",
    "        '_entity.pdbx_number_of_molecules', \\\n",
    "        '_entity.pdbx_mutation' ,\\\n",
    "        '_entity.pdbx_fragment' ,\\\n",
    "\n",
    "            ]"
   ]
  },
  {
   "cell_type": "code",
   "execution_count": 15,
   "id": "541bfc03-ebd1-49a1-9332-01d7ec13fe39",
   "metadata": {},
   "outputs": [],
   "source": []
  },
  {
   "cell_type": "code",
   "execution_count": null,
   "id": "7cc042e2-b55e-4d5a-b336-5f5e8996cb25",
   "metadata": {},
   "outputs": [],
   "source": [
    "columnNames = ['PDBID','date','gene','species','title','keywords','method']\n",
    "saveDict = { k:[] for k in columnNames }\n",
    "pathNames = [os.path.join(asuDirectory,s) for s in os.listdir(asuDirectory)]\n",
    "df = pd.DataFrame( columns = columnNames )"
   ]
  },
  {
   "cell_type": "code",
   "execution_count": null,
   "id": "c8de706b-b345-4658-a56b-87acbf273cc2",
   "metadata": {},
   "outputs": [],
   "source": [
    "saveDict"
   ]
  },
  {
   "cell_type": "code",
   "execution_count": null,
   "id": "3e71a14e-e512-4f4b-88c3-6c4ad4a71fb1",
   "metadata": {},
   "outputs": [],
   "source": [
    "for path in pathNames:\n",
    "    mmcifdict = MMCIF2Dict(path)\n",
    "    print(path)\n",
    "    for c,k in zip(columnNames,dbKeys):\n",
    "        saveDict[c].append(mmcifdict[k])\n",
    "    "
   ]
  },
  {
   "cell_type": "code",
   "execution_count": null,
   "id": "4be4ce79-9d93-42bf-9a69-d1a7354a5d46",
   "metadata": {},
   "outputs": [],
   "source": [
    "mmcifdict"
   ]
  },
  {
   "cell_type": "code",
   "execution_count": null,
   "id": "2125ad8b-1deb-4b2c-997a-719de86da97e",
   "metadata": {},
   "outputs": [],
   "source": [
    "df = pd.DataFrame(saveDict)"
   ]
  },
  {
   "cell_type": "code",
   "execution_count": null,
   "id": "12e46e28-5aab-4854-97a5-ea7cf4862b78",
   "metadata": {},
   "outputs": [],
   "source": []
  },
  {
   "cell_type": "code",
   "execution_count": null,
   "id": "04bb98db-a699-476f-8a42-6fea34d728bc",
   "metadata": {},
   "outputs": [],
   "source": [
    "df"
   ]
  },
  {
   "cell_type": "code",
   "execution_count": null,
   "id": "e78318c3-0d52-4c6f-947a-9b7c6087966d",
   "metadata": {},
   "outputs": [],
   "source": [
    "df.to_csv('db_summary.csv')"
   ]
  },
  {
   "cell_type": "code",
   "execution_count": null,
   "id": "ac038036-eaa4-48af-a29d-2636fdab5f3c",
   "metadata": {},
   "outputs": [],
   "source": [
    "a"
   ]
  },
  {
   "cell_type": "code",
   "execution_count": null,
   "id": "c925e943-0637-4292-94a7-52aea1e29766",
   "metadata": {},
   "outputs": [],
   "source": [
    "a.update(b)"
   ]
  },
  {
   "cell_type": "code",
   "execution_count": null,
   "id": "cdffe2d8-3f61-449c-a80e-2f9363aaee93",
   "metadata": {},
   "outputs": [],
   "source": [
    "a"
   ]
  },
  {
   "cell_type": "code",
   "execution_count": null,
   "id": "d6ecebb6-5287-4eba-98a5-4d9971a93e05",
   "metadata": {},
   "outputs": [],
   "source": [
    "a[1].append(200)"
   ]
  },
  {
   "cell_type": "code",
   "execution_count": null,
   "id": "79512684-3432-4b94-9bad-82a36e3f6e3a",
   "metadata": {},
   "outputs": [],
   "source": [
    "a"
   ]
  },
  {
   "cell_type": "code",
   "execution_count": null,
   "id": "b4101d92-53b7-44df-8ea6-63073262f006",
   "metadata": {},
   "outputs": [],
   "source": []
  }
 ],
 "metadata": {
  "kernelspec": {
   "display_name": "Python 3 (ipykernel)",
   "language": "python",
   "name": "python3"
  },
  "language_info": {
   "codemirror_mode": {
    "name": "ipython",
    "version": 3
   },
   "file_extension": ".py",
   "mimetype": "text/x-python",
   "name": "python",
   "nbconvert_exporter": "python",
   "pygments_lexer": "ipython3",
   "version": "3.12.2"
  }
 },
 "nbformat": 4,
 "nbformat_minor": 5
}
