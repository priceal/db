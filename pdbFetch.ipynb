{
 "cells": [
  {
   "cell_type": "markdown",
   "id": "de89867b-be63-4f3f-83c1-972fd8b7b3a7",
   "metadata": {},
   "source": [
    "### using biopython to fetch and save data from PDB"
   ]
  },
  {
   "cell_type": "code",
   "execution_count": null,
   "id": "07373d8f-1ba6-465a-9eb2-fb607d608c24",
   "metadata": {},
   "outputs": [],
   "source": [
    "from Bio.PDB import PDBList                  # fetches/saves PDB data\n",
    "from Bio.PDB.MMCIF2Dict import MMCIF2Dict    # parses data in mmCIF files\n",
    "from Bio.PDB import MMCIFParser, Selection, is_aa\n",
    "import pandas as pd\n",
    "import os"
   ]
  },
  {
   "cell_type": "code",
   "execution_count": null,
   "id": "b84208c4-0e22-4666-babb-88bfdb7604c1",
   "metadata": {},
   "outputs": [],
   "source": [
    "# code for creating list of pdb codes to download. Must end with a list of codes in lower case.\n",
    "\n",
    "################################################################################################\n",
    "#pdbCsv='df.csv'\n",
    "pdbCsv='pNA2.txt'\n",
    "df=pd.read_csv(pdbCsv)\n",
    "#pdbCodes = [ s.split('\\'')[1].lower() for s in df['pdbid'] ]\n",
    "pdbCodes = list(df.columns)\n",
    "################################################################################################\n",
    "\n",
    "print(len(pdbCodes), 'PDB codes')"
   ]
  },
  {
   "cell_type": "code",
   "execution_count": null,
   "id": "95455b14-4efc-49c9-a349-c2ad42b13c60",
   "metadata": {
    "scrolled": true
   },
   "outputs": [],
   "source": [
    "pdbCodes"
   ]
  },
  {
   "cell_type": "code",
   "execution_count": null,
   "id": "eb0619cf-5d43-4f5e-8554-213f7bf74108",
   "metadata": {},
   "outputs": [],
   "source": [
    "# code setting up directories for saving assemblies and ASUs\n",
    "\n",
    "################################################################################################\n",
    "pdbDirectory = 'pdb'\n",
    "assemblyDirectory = 'assembly'\n",
    "fastaDirectory = 'fasta'\n",
    "################################################################################################\n",
    "\n",
    "pdblist = PDBList()"
   ]
  },
  {
   "cell_type": "code",
   "execution_count": null,
   "id": "daaa0a98-ebb8-4667-b846-df6427069283",
   "metadata": {},
   "outputs": [],
   "source": [
    "\n",
    "# this first fetches an entire list of PDBs\n",
    "pdblist.download_pdb_files(pdbCodes,pdir=pdbDirectory,file_format='mmCif')\n"
   ]
  },
  {
   "cell_type": "code",
   "execution_count": null,
   "id": "7cc042e2-b55e-4d5a-b336-5f5e8996cb25",
   "metadata": {},
   "outputs": [],
   "source": [
    "\n",
    "pathNames = [os.path.join(pdbDirectory,s) for s in os.listdir(pdbDirectory)]\n",
    " "
   ]
  },
  {
   "cell_type": "code",
   "execution_count": null,
   "id": "3e71a14e-e512-4f4b-88c3-6c4ad4a71fb1",
   "metadata": {},
   "outputs": [],
   "source": [
    "print('processing assemblies...')\n",
    "for path in pathNames:\n",
    "    mmcifdict = MMCIF2Dict(path)\n",
    "    assemblyCount = len(mmcifdict[ '_pdbx_struct_assembly.oligomeric_count' ])\n",
    "    print('  ...',path,':',assemblyCount)\n",
    "    code = mmcifdict[ '_entry.id' ][0]\n",
    "    for i in range(assemblyCount):\n",
    "        pdblist.retrieve_assembly_file(code,i+1,pdir=assemblyDirectory,file_format='mmCif')"
   ]
  },
  {
   "cell_type": "code",
   "execution_count": null,
   "id": "c8de706b-b345-4658-a56b-87acbf273cc2",
   "metadata": {},
   "outputs": [],
   "source": [
    "path = 'pdb/7cy8.cif' \n",
    "mmcifdict = MMCIF2Dict(path)\n",
    "mmcifdict\n"
   ]
  },
  {
   "cell_type": "code",
   "execution_count": null,
   "id": "4be4ce79-9d93-42bf-9a69-d1a7354a5d46",
   "metadata": {},
   "outputs": [],
   "source": [
    "parser = MMCIFParser()"
   ]
  },
  {
   "cell_type": "code",
   "execution_count": null,
   "id": "2125ad8b-1deb-4b2c-997a-719de86da97e",
   "metadata": {},
   "outputs": [],
   "source": [
    "structure = parser.get_structure('7cy8',path)"
   ]
  },
  {
   "cell_type": "code",
   "execution_count": null,
   "id": "12e46e28-5aab-4854-97a5-ea7cf4862b78",
   "metadata": {},
   "outputs": [],
   "source": [
    "structure"
   ]
  },
  {
   "cell_type": "code",
   "execution_count": null,
   "id": "04bb98db-a699-476f-8a42-6fea34d728bc",
   "metadata": {},
   "outputs": [],
   "source": [
    "for model in structure:\n",
    "    for chain in model:\n",
    "        for residue in chain:\n",
    "            print(residue.get_parent().get_parent(),residue.get_parent(),residue, is_aa(residue))\n",
    "#            for atom in residue:\n",
    "#                print(atom)"
   ]
  },
  {
   "cell_type": "code",
   "execution_count": null,
   "id": "e78318c3-0d52-4c6f-947a-9b7c6087966d",
   "metadata": {},
   "outputs": [],
   "source": [
    "model = structure[0]\n",
    "chain = model[\"A\"]\n",
    "residue = chain[3]\n",
    "\n"
   ]
  },
  {
   "cell_type": "code",
   "execution_count": null,
   "id": "ac038036-eaa4-48af-a29d-2636fdab5f3c",
   "metadata": {},
   "outputs": [],
   "source": [
    "for chain in model:\n",
    "    print(chain,len(chain))"
   ]
  },
  {
   "cell_type": "code",
   "execution_count": null,
   "id": "c925e943-0637-4292-94a7-52aea1e29766",
   "metadata": {},
   "outputs": [],
   "source": [
    "for model in structure:\n",
    "    for chain in model:\n",
    "        for residue in chain:\n",
    "            print(residue.get_parent().get_parent(),residue.get_parent(),residue,is_aa(residue))\n",
    "#            for atom in residue:\n",
    "#                print(atom)"
   ]
  },
  {
   "cell_type": "code",
   "execution_count": null,
   "id": "cdffe2d8-3f61-449c-a80e-2f9363aaee93",
   "metadata": {},
   "outputs": [],
   "source": [
    "a"
   ]
  },
  {
   "cell_type": "code",
   "execution_count": null,
   "id": "d6ecebb6-5287-4eba-98a5-4d9971a93e05",
   "metadata": {},
   "outputs": [],
   "source": [
    "a[1].append(200)"
   ]
  },
  {
   "cell_type": "code",
   "execution_count": null,
   "id": "79512684-3432-4b94-9bad-82a36e3f6e3a",
   "metadata": {},
   "outputs": [],
   "source": [
    "a"
   ]
  },
  {
   "cell_type": "code",
   "execution_count": null,
   "id": "b4101d92-53b7-44df-8ea6-63073262f006",
   "metadata": {},
   "outputs": [],
   "source": []
  }
 ],
 "metadata": {
  "kernelspec": {
   "display_name": "Python 3 (ipykernel)",
   "language": "python",
   "name": "python3"
  },
  "language_info": {
   "codemirror_mode": {
    "name": "ipython",
    "version": 3
   },
   "file_extension": ".py",
   "mimetype": "text/x-python",
   "name": "python",
   "nbconvert_exporter": "python",
   "pygments_lexer": "ipython3",
   "version": "3.12.2"
  }
 },
 "nbformat": 4,
 "nbformat_minor": 5
}
